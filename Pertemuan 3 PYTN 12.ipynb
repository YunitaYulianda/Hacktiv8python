{
 "cells": [
  {
   "cell_type": "code",
   "execution_count": null,
   "id": "95e92e0f",
   "metadata": {},
   "outputs": [],
   "source": [
    "f(x)\n",
    "g(x)\n",
    "\n",
    "f(x) = x^2 + 2x + 3"
   ]
  },
  {
   "cell_type": "code",
   "execution_count": 2,
   "id": "01d3d63f",
   "metadata": {},
   "outputs": [],
   "source": [
    "def f(x):\n",
    "    value = x**2 + (2*x) + 3\n",
    "    return value"
   ]
  },
  {
   "cell_type": "code",
   "execution_count": 3,
   "id": "2e34c713",
   "metadata": {},
   "outputs": [],
   "source": [
    "var1 = f(1)\n",
    "var2 = f(3)"
   ]
  },
  {
   "cell_type": "code",
   "execution_count": 5,
   "id": "d208099a",
   "metadata": {},
   "outputs": [],
   "source": [
    "def factorials(n):\n",
    "    value = 1\n",
    "    while n > 1:\n",
    "        value *= n\n",
    "        n-=1\n",
    "    return value"
   ]
  },
  {
   "cell_type": "code",
   "execution_count": 6,
   "id": "9e63c2b0",
   "metadata": {},
   "outputs": [
    {
     "data": {
      "text/plain": [
       "120"
      ]
     },
     "execution_count": 6,
     "metadata": {},
     "output_type": "execute_result"
    }
   ],
   "source": [
    "factorials(5)"
   ]
  },
  {
   "cell_type": "code",
   "execution_count": 7,
   "id": "ce191162",
   "metadata": {},
   "outputs": [],
   "source": [
    "def penjumlahan(bil1, bil2):\n",
    "    return bil1 + bil2 #bisa tanpa adanya variabel, langsung return"
   ]
  },
  {
   "cell_type": "code",
   "execution_count": 8,
   "id": "b205983e",
   "metadata": {},
   "outputs": [
    {
     "data": {
      "text/plain": [
       "11"
      ]
     },
     "execution_count": 8,
     "metadata": {},
     "output_type": "execute_result"
    }
   ],
   "source": [
    "var1 = 5\n",
    "var2 = 6\n",
    "penjumlahan(5, 6)"
   ]
  },
  {
   "cell_type": "code",
   "execution_count": 9,
   "id": "11f66508",
   "metadata": {},
   "outputs": [],
   "source": [
    "def penjumlahaninputlist(list_input):\n",
    "    total = 0\n",
    "    for i in list_input:\n",
    "        total += i\n",
    "    return total"
   ]
  },
  {
   "cell_type": "code",
   "execution_count": 10,
   "id": "c1d80c59",
   "metadata": {},
   "outputs": [
    {
     "data": {
      "text/plain": [
       "150"
      ]
     },
     "execution_count": 10,
     "metadata": {},
     "output_type": "execute_result"
    }
   ],
   "source": [
    "penjumlahaninputlist([10,20,30,40,50])"
   ]
  },
  {
   "cell_type": "code",
   "execution_count": 12,
   "id": "63b1a7ae",
   "metadata": {},
   "outputs": [],
   "source": [
    "def penjumlahan(*val_arg): #bintang dia awal guna menghasilkan output dalam bentuk tuple\n",
    "    print(val_arg)\n",
    "    return 0"
   ]
  },
  {
   "cell_type": "code",
   "execution_count": 13,
   "id": "03c2766f",
   "metadata": {},
   "outputs": [
    {
     "name": "stdout",
     "output_type": "stream",
     "text": [
      "(1, 2, 3, 4, 5, 6)\n"
     ]
    },
    {
     "data": {
      "text/plain": [
       "0"
      ]
     },
     "execution_count": 13,
     "metadata": {},
     "output_type": "execute_result"
    }
   ],
   "source": [
    "penjumlahan(1,2,3,4,5,6)"
   ]
  },
  {
   "cell_type": "code",
   "execution_count": 14,
   "id": "50d562e3",
   "metadata": {},
   "outputs": [],
   "source": [
    "g = lambda x: x**2 + 2*x + 3"
   ]
  },
  {
   "cell_type": "code",
   "execution_count": 15,
   "id": "f1e6e622",
   "metadata": {},
   "outputs": [
    {
     "data": {
      "text/plain": [
       "6"
      ]
     },
     "execution_count": 15,
     "metadata": {},
     "output_type": "execute_result"
    }
   ],
   "source": [
    "g(1)"
   ]
  },
  {
   "cell_type": "code",
   "execution_count": 16,
   "id": "c3e3f403",
   "metadata": {},
   "outputs": [],
   "source": [
    "pengalian = lambda x, y: x*y #lambda susah dipakai untuk fungsi yang ada looping "
   ]
  },
  {
   "cell_type": "code",
   "execution_count": 17,
   "id": "4f8bcda6",
   "metadata": {},
   "outputs": [
    {
     "data": {
      "text/plain": [
       "14"
      ]
     },
     "execution_count": 17,
     "metadata": {},
     "output_type": "execute_result"
    }
   ],
   "source": [
    "pengalian(2,7)"
   ]
  },
  {
   "cell_type": "markdown",
   "id": "aff3d8ac",
   "metadata": {},
   "source": [
    "#### Fungsi rekursif = fungsi yang memanggil fungsinya sendiri"
   ]
  },
  {
   "cell_type": "code",
   "execution_count": 18,
   "id": "ebbebd98",
   "metadata": {},
   "outputs": [],
   "source": [
    "def factorials(n):\n",
    "    if (n == 1) or (n == 0):\n",
    "        return 1\n",
    "    else:\n",
    "        return n * factorials(n-1)"
   ]
  },
  {
   "cell_type": "code",
   "execution_count": 19,
   "id": "d82bf3a8",
   "metadata": {},
   "outputs": [
    {
     "data": {
      "text/plain": [
       "120"
      ]
     },
     "execution_count": 19,
     "metadata": {},
     "output_type": "execute_result"
    }
   ],
   "source": [
    "factorials(5)"
   ]
  },
  {
   "cell_type": "markdown",
   "id": "880d9d9e",
   "metadata": {},
   "source": [
    "#### Prosedure tidak ada return"
   ]
  },
  {
   "cell_type": "code",
   "execution_count": 20,
   "id": "89c9aafe",
   "metadata": {},
   "outputs": [
    {
     "name": "stdout",
     "output_type": "stream",
     "text": [
      "Ini masuk prosedur\n",
      "Ini adalah input pertama\n",
      "Ini adalah input kedua\n"
     ]
    }
   ],
   "source": [
    "def prosedur(input1, input2):\n",
    "    print(\"Ini masuk prosedur\")\n",
    "    print(input1)\n",
    "    print(input2)\n",
    "    \n",
    "prosedur(\"Ini adalah input pertama\", \"Ini adalah input kedua\")"
   ]
  },
  {
   "cell_type": "code",
   "execution_count": 21,
   "id": "ab6f553a",
   "metadata": {},
   "outputs": [
    {
     "name": "stdout",
     "output_type": "stream",
     "text": [
      "Values list di dalam prosedure:  [10, 20, 30, 40, [1, 23, 4, 5]]\n",
      "Values list di luar prosedure:  [10, 20, 30, 40, [1, 23, 4, 5]]\n"
     ]
    }
   ],
   "source": [
    "def prodc(list_input):\n",
    "    list_input.append([1,23,4,5])\n",
    "    print(\"Values list di dalam prosedure: \", list_input)\n",
    "    \n",
    "list1 = [10,20,30,40]\n",
    "prodc(list1)\n",
    "print(\"Values list di luar prosedure: \",list1)"
   ]
  },
  {
   "cell_type": "code",
   "execution_count": 22,
   "id": "5fdd685f",
   "metadata": {},
   "outputs": [
    {
     "name": "stdout",
     "output_type": "stream",
     "text": [
      "Values list di dalam prosedure:  [1, 23, 4, 5]\n",
      "Values list di luar prosedure:  [10, 20, 30, 40]\n"
     ]
    }
   ],
   "source": [
    "def prodc(list_input):\n",
    "    list_input = [1,23,4,5]\n",
    "    print(\"Values list di dalam prosedure: \", list_input)\n",
    "    \n",
    "list1 = [10,20,30,40]\n",
    "prodc(list1)\n",
    "print(\"Values list di luar prosedure: \",list1)"
   ]
  },
  {
   "cell_type": "code",
   "execution_count": 23,
   "id": "ec3df003",
   "metadata": {},
   "outputs": [
    {
     "name": "stdout",
     "output_type": "stream",
     "text": [
      "Bilangan di dalam prosedur:  6\n",
      "Bilangan di luar prosedure:  5\n"
     ]
    }
   ],
   "source": [
    "def tambah_satu(x):\n",
    "    x += 1\n",
    "    print(\"Bilangan di dalam prosedur: \", x)\n",
    "    \n",
    "bil1 = 5\n",
    "tambah_satu(bil1)\n",
    "print(\"Bilangan di luar prosedure: \", bil1)"
   ]
  },
  {
   "cell_type": "code",
   "execution_count": 24,
   "id": "b4092b0b",
   "metadata": {},
   "outputs": [],
   "source": [
    "def prosedur_no_input():\n",
    "    print(\"ABC\")\n",
    "    print(\"DEF\")"
   ]
  },
  {
   "cell_type": "code",
   "execution_count": 25,
   "id": "9974747e",
   "metadata": {},
   "outputs": [
    {
     "name": "stdout",
     "output_type": "stream",
     "text": [
      "ABC\n",
      "DEF\n"
     ]
    }
   ],
   "source": [
    "prosedur_no_input()"
   ]
  },
  {
   "cell_type": "code",
   "execution_count": 28,
   "id": "6c5cf33e",
   "metadata": {},
   "outputs": [],
   "source": [
    "def prosedur_no_input(s):\n",
    "    print(\"ABC\")\n",
    "    print(\"DEF\")\n",
    "    print(s)"
   ]
  },
  {
   "cell_type": "code",
   "execution_count": 29,
   "id": "edd7c3bd",
   "metadata": {},
   "outputs": [
    {
     "name": "stdout",
     "output_type": "stream",
     "text": [
      "ABC\n",
      "DEF\n",
      "Ini String\n"
     ]
    }
   ],
   "source": [
    "prosedur_no_input(s = \"Ini String\")"
   ]
  },
  {
   "cell_type": "code",
   "execution_count": 30,
   "id": "7264cf19",
   "metadata": {},
   "outputs": [],
   "source": [
    "def pembagian(x,y):\n",
    "    return x/y"
   ]
  },
  {
   "cell_type": "code",
   "execution_count": 31,
   "id": "f16ca6ea",
   "metadata": {},
   "outputs": [
    {
     "data": {
      "text/plain": [
       "0.4"
      ]
     },
     "execution_count": 31,
     "metadata": {},
     "output_type": "execute_result"
    }
   ],
   "source": [
    "pembagian(y=5, x=2)"
   ]
  },
  {
   "cell_type": "code",
   "execution_count": 32,
   "id": "0ee243da",
   "metadata": {},
   "outputs": [
    {
     "name": "stdout",
     "output_type": "stream",
     "text": [
      "Nama:  Yunita\n",
      "Umur:  20\n"
     ]
    }
   ],
   "source": [
    "def printinfo(nama, umur):\n",
    "    print(\"Nama: \", nama)\n",
    "    print(\"Umur: \", umur)\n",
    "    \n",
    "printinfo(umur=20, nama=\"Yunita\")"
   ]
  },
  {
   "cell_type": "code",
   "execution_count": 35,
   "id": "c6c2a235",
   "metadata": {},
   "outputs": [
    {
     "name": "stdout",
     "output_type": "stream",
     "text": [
      "Nama:  Yuni\n",
      "Umur:  19\n"
     ]
    }
   ],
   "source": [
    "def printinfo(nama, umur=19):\n",
    "    print(\"Nama: \", nama)\n",
    "    print(\"Umur: \", umur)\n",
    "    \n",
    "printinfo(nama=\"Yuni\")"
   ]
  },
  {
   "cell_type": "code",
   "execution_count": 40,
   "id": "4172ac99",
   "metadata": {},
   "outputs": [
    {
     "name": "stdout",
     "output_type": "stream",
     "text": [
      "Bilangan di dalam prosedur:  6\n",
      "Bilangan di luar prosedur:  6\n"
     ]
    }
   ],
   "source": [
    "bil1 = 5\n",
    "\n",
    "def tambah_satu():\n",
    "    global bil1 #agar nilai didalam dan diluar sama\n",
    "    bil1 += 1\n",
    "    print(\"Bilangan di dalam prosedur: \", bil1)\n",
    "    \n",
    "tambah_satu()\n",
    "print(\"Bilangan di luar prosedur: \", bil1)"
   ]
  },
  {
   "cell_type": "code",
   "execution_count": 42,
   "id": "dd53fe55",
   "metadata": {},
   "outputs": [
    {
     "name": "stdout",
     "output_type": "stream",
     "text": [
      "Didalam prosedur:  9\n",
      "Di luar prosedure:  0\n"
     ]
    }
   ],
   "source": [
    "total = 0\n",
    "def jumlah(bil1, bil2):\n",
    "    total = bil1 + bil2\n",
    "    print(\"Didalam prosedur: \", total)\n",
    "    \n",
    "jumlah(5,4)\n",
    "print(\"Di luar prosedure: \", total)"
   ]
  },
  {
   "cell_type": "code",
   "execution_count": 43,
   "id": "3da0919a",
   "metadata": {},
   "outputs": [],
   "source": [
    "bilangan1 = 20\n",
    "\n",
    "def jumlahPertama():\n",
    "    bilangan2 = 30\n",
    "    return bilangan1 + bilangan2"
   ]
  },
  {
   "cell_type": "code",
   "execution_count": 44,
   "id": "53b56543",
   "metadata": {},
   "outputs": [
    {
     "data": {
      "text/plain": [
       "50"
      ]
     },
     "execution_count": 44,
     "metadata": {},
     "output_type": "execute_result"
    }
   ],
   "source": [
    "jumlahPertama()"
   ]
  },
  {
   "cell_type": "markdown",
   "id": "a3c7824f",
   "metadata": {},
   "source": [
    "#### Module = sebuah python ekternal, agar mempermudah dan mempersingkat code"
   ]
  },
  {
   "cell_type": "code",
   "execution_count": 46,
   "id": "1cce7d1d",
   "metadata": {},
   "outputs": [],
   "source": [
    "import mod"
   ]
  },
  {
   "cell_type": "code",
   "execution_count": 47,
   "id": "08abe0be",
   "metadata": {},
   "outputs": [
    {
     "data": {
      "text/plain": [
       "'Tutorial Python Kampus Merdeka'"
      ]
     },
     "execution_count": 47,
     "metadata": {},
     "output_type": "execute_result"
    }
   ],
   "source": [
    "mod.s"
   ]
  },
  {
   "cell_type": "code",
   "execution_count": 48,
   "id": "2ebd1c20",
   "metadata": {},
   "outputs": [
    {
     "data": {
      "text/plain": [
       "15"
      ]
     },
     "execution_count": 48,
     "metadata": {},
     "output_type": "execute_result"
    }
   ],
   "source": [
    "mod.fungsi_kostum(3,2,3)"
   ]
  },
  {
   "cell_type": "code",
   "execution_count": 50,
   "id": "06f31f28",
   "metadata": {},
   "outputs": [
    {
     "name": "stdout",
     "output_type": "stream",
     "text": [
      "['C:\\\\Users\\\\HP\\\\Downloads\\\\Documents\\\\Berkas penting\\\\Hacktiv8 pasti bisa\\\\Latihan Hacktiv8', 'C:\\\\Users\\\\HP\\\\anaconda3\\\\python39.zip', 'C:\\\\Users\\\\HP\\\\anaconda3\\\\DLLs', 'C:\\\\Users\\\\HP\\\\anaconda3\\\\lib', 'C:\\\\Users\\\\HP\\\\anaconda3', '', 'C:\\\\Users\\\\HP\\\\AppData\\\\Roaming\\\\Python\\\\Python39\\\\site-packages', 'C:\\\\Users\\\\HP\\\\anaconda3\\\\lib\\\\site-packages', 'C:\\\\Users\\\\HP\\\\anaconda3\\\\lib\\\\site-packages\\\\win32', 'C:\\\\Users\\\\HP\\\\anaconda3\\\\lib\\\\site-packages\\\\win32\\\\lib', 'C:\\\\Users\\\\HP\\\\anaconda3\\\\lib\\\\site-packages\\\\Pythonwin']\n"
     ]
    }
   ],
   "source": [
    "import sys\n",
    "print(sys.path)"
   ]
  },
  {
   "cell_type": "code",
   "execution_count": 54,
   "id": "58fd2989",
   "metadata": {},
   "outputs": [],
   "source": [
    "import math"
   ]
  },
  {
   "cell_type": "code",
   "execution_count": 57,
   "id": "3aa50fe5",
   "metadata": {},
   "outputs": [],
   "source": [
    "from mod import * #mengimport semua yang ada di modul"
   ]
  },
  {
   "cell_type": "code",
   "execution_count": 58,
   "id": "7f76fb87",
   "metadata": {},
   "outputs": [
    {
     "data": {
      "text/plain": [
       "'Tutorial Python Kampus Merdeka'"
      ]
     },
     "execution_count": 58,
     "metadata": {},
     "output_type": "execute_result"
    }
   ],
   "source": [
    "s"
   ]
  },
  {
   "cell_type": "code",
   "execution_count": 59,
   "id": "62694be2",
   "metadata": {},
   "outputs": [],
   "source": [
    "from mod import fungsi_kostum"
   ]
  },
  {
   "cell_type": "code",
   "execution_count": 60,
   "id": "8ece6acd",
   "metadata": {},
   "outputs": [
    {
     "data": {
      "text/plain": [
       "7"
      ]
     },
     "execution_count": 60,
     "metadata": {},
     "output_type": "execute_result"
    }
   ],
   "source": [
    "fungsi_kostum(1,2,3)"
   ]
  },
  {
   "cell_type": "code",
   "execution_count": 62,
   "id": "eed1c6fa",
   "metadata": {},
   "outputs": [
    {
     "data": {
      "text/plain": [
       "'Tutorial Python Kampus Merdeka'"
      ]
     },
     "execution_count": 62,
     "metadata": {},
     "output_type": "execute_result"
    }
   ],
   "source": [
    "s"
   ]
  },
  {
   "cell_type": "markdown",
   "id": "cc0ba480",
   "metadata": {},
   "source": [
    "#### Mengaliaskan nama modul"
   ]
  },
  {
   "cell_type": "code",
   "execution_count": 63,
   "id": "f1c24150",
   "metadata": {},
   "outputs": [],
   "source": [
    "from mod import fungsi_kostum as fk"
   ]
  },
  {
   "cell_type": "code",
   "execution_count": 64,
   "id": "c9cc6905",
   "metadata": {},
   "outputs": [
    {
     "data": {
      "text/plain": [
       "7"
      ]
     },
     "execution_count": 64,
     "metadata": {},
     "output_type": "execute_result"
    }
   ],
   "source": [
    "fk(1,2,3)"
   ]
  },
  {
   "cell_type": "code",
   "execution_count": 65,
   "id": "313628c3",
   "metadata": {},
   "outputs": [],
   "source": [
    "import mod as m"
   ]
  },
  {
   "cell_type": "code",
   "execution_count": 66,
   "id": "dfd0be70",
   "metadata": {},
   "outputs": [
    {
     "data": {
      "text/plain": [
       "[10, 20, 30, 40]"
      ]
     },
     "execution_count": 66,
     "metadata": {},
     "output_type": "execute_result"
    }
   ],
   "source": [
    "m.mylist"
   ]
  },
  {
   "cell_type": "code",
   "execution_count": 67,
   "id": "19b6b4a5",
   "metadata": {},
   "outputs": [
    {
     "data": {
      "text/plain": [
       "'Tutorial Python Kampus Merdeka'"
      ]
     },
     "execution_count": 67,
     "metadata": {},
     "output_type": "execute_result"
    }
   ],
   "source": [
    "m.s"
   ]
  },
  {
   "cell_type": "code",
   "execution_count": 72,
   "id": "0062700c",
   "metadata": {},
   "outputs": [
    {
     "data": {
      "text/plain": [
       "'Tutorial Python Kampus Merdeka'"
      ]
     },
     "execution_count": 72,
     "metadata": {},
     "output_type": "execute_result"
    }
   ],
   "source": [
    "import mod\n",
    "mod.s"
   ]
  },
  {
   "cell_type": "code",
   "execution_count": null,
   "id": "a1cfbf8e",
   "metadata": {},
   "outputs": [],
   "source": []
  }
 ],
 "metadata": {
  "kernelspec": {
   "display_name": "Python 3 (ipykernel)",
   "language": "python",
   "name": "python3"
  },
  "language_info": {
   "codemirror_mode": {
    "name": "ipython",
    "version": 3
   },
   "file_extension": ".py",
   "mimetype": "text/x-python",
   "name": "python",
   "nbconvert_exporter": "python",
   "pygments_lexer": "ipython3",
   "version": "3.9.12"
  }
 },
 "nbformat": 4,
 "nbformat_minor": 5
}
