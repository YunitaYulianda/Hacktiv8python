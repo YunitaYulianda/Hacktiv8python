{
 "cells": [
  {
   "cell_type": "markdown",
   "id": "dcffc39f",
   "metadata": {},
   "source": [
    "# Descriptive Statistic"
   ]
  },
  {
   "cell_type": "markdown",
   "id": "ce46093a",
   "metadata": {},
   "source": [
    "# Central Tendency"
   ]
  },
  {
   "cell_type": "code",
   "execution_count": 2,
   "id": "ee4d38e3",
   "metadata": {},
   "outputs": [],
   "source": [
    "import math\n",
    "import statistics\n",
    "import numpy as np\n",
    "import scipy.stats\n",
    "import pandas as pd\n",
    "\n",
    "%matplotlib inline\n",
    "import seaborn as sns"
   ]
  },
  {
   "cell_type": "code",
   "execution_count": 5,
   "id": "87852efd",
   "metadata": {},
   "outputs": [
    {
     "name": "stdout",
     "output_type": "stream",
     "text": [
      "[8.0, 1, 2.5, 4, 28.0]\n",
      "[8.0, 1, 2.5, nan, 4, 28.0]\n"
     ]
    }
   ],
   "source": [
    "x_ = [8.0, 1, 2.5, 4, 28.0]\n",
    "x_with_nan = [8.0, 1, 2.5, math.nan, 4, 28.0]\n",
    "print(x_)\n",
    "print(x_with_nan)"
   ]
  },
  {
   "cell_type": "code",
   "execution_count": 16,
   "id": "3940d9bc",
   "metadata": {},
   "outputs": [
    {
     "name": "stdout",
     "output_type": "stream",
     "text": [
      "[ 8.   1.   2.5  4.  28. ]\n",
      "[ 8.   1.   2.5  nan  4.  28. ]\n",
      "0     8.0\n",
      "1     1.0\n",
      "2     2.5\n",
      "3     4.0\n",
      "4    28.0\n",
      "dtype: float64\n",
      "0     8.0\n",
      "1     1.0\n",
      "2     2.5\n",
      "3     NaN\n",
      "4     4.0\n",
      "5    28.0\n",
      "dtype: float64\n"
     ]
    }
   ],
   "source": [
    "y, y_with_nan = np.array(x_), np.array(x_with_nan)\n",
    "z, z_with_nan = pd.Series(x_), pd.Series(x_with_nan)\n",
    "\n",
    "print(y)\n",
    "print(y_with_nan)\n",
    "print(z)\n",
    "print(z_with_nan)"
   ]
  },
  {
   "cell_type": "code",
   "execution_count": 137,
   "id": "03e1e390",
   "metadata": {},
   "outputs": [
    {
     "data": {
      "text/plain": [
       "numpy.ndarray"
      ]
     },
     "execution_count": 137,
     "metadata": {},
     "output_type": "execute_result"
    }
   ],
   "source": [
    "type(y)"
   ]
  },
  {
   "cell_type": "code",
   "execution_count": 186,
   "id": "c6f68c5d",
   "metadata": {},
   "outputs": [
    {
     "data": {
      "text/plain": [
       "list"
      ]
     },
     "execution_count": 186,
     "metadata": {},
     "output_type": "execute_result"
    }
   ],
   "source": [
    "type(x_)"
   ]
  },
  {
   "cell_type": "markdown",
   "id": "af0853e6",
   "metadata": {},
   "source": [
    "# 1. Mean "
   ]
  },
  {
   "cell_type": "code",
   "execution_count": 109,
   "id": "d29d0a47",
   "metadata": {},
   "outputs": [],
   "source": [
    "# hitung central tendency dari data "
   ]
  },
  {
   "cell_type": "code",
   "execution_count": 187,
   "id": "03c4f5e5",
   "metadata": {},
   "outputs": [
    {
     "data": {
      "text/plain": [
       "8.7"
      ]
     },
     "execution_count": 187,
     "metadata": {},
     "output_type": "execute_result"
    }
   ],
   "source": [
    "# cara manual\n",
    "mean_ = sum(x_)/len(x_)\n",
    "mean_"
   ]
  },
  {
   "cell_type": "code",
   "execution_count": 188,
   "id": "886658ed",
   "metadata": {},
   "outputs": [
    {
     "data": {
      "text/plain": [
       "8.7"
      ]
     },
     "execution_count": 188,
     "metadata": {},
     "output_type": "execute_result"
    }
   ],
   "source": [
    "# pake built ini function\n",
    "mean_= statistics.mean(x_)\n",
    "mean_"
   ]
  },
  {
   "cell_type": "code",
   "execution_count": 148,
   "id": "25f7cf7a",
   "metadata": {},
   "outputs": [
    {
     "data": {
      "text/plain": [
       "8.7"
      ]
     },
     "execution_count": 148,
     "metadata": {},
     "output_type": "execute_result"
    }
   ],
   "source": [
    "# INGAT!\n",
    "# Sebelumnya kita bisa menggunakan sebuah fungsi pada list\n",
    "# namun, pada array, kita bisa menggunakan method\n",
    "mean_= y.mean()\n",
    "mean_"
   ]
  },
  {
   "cell_type": "code",
   "execution_count": 149,
   "id": "60a46eaf",
   "metadata": {},
   "outputs": [
    {
     "data": {
      "text/plain": [
       "nan"
      ]
     },
     "execution_count": 149,
     "metadata": {},
     "output_type": "execute_result"
    }
   ],
   "source": [
    "# tes ke list data yang ada nan\n",
    "mean_= statistics.mean(x_with_nan)\n",
    "mean_\n",
    "# akan menghasilkan nan juga"
   ]
  },
  {
   "cell_type": "code",
   "execution_count": 150,
   "id": "946adb36",
   "metadata": {},
   "outputs": [
    {
     "data": {
      "text/plain": [
       "8.7"
      ]
     },
     "execution_count": 150,
     "metadata": {},
     "output_type": "execute_result"
    }
   ],
   "source": [
    "# solusi pertama\n",
    "# gunakan method nanmean untuk ngeskip nilai NaN\n",
    "np.nanmean(x_with_nan)"
   ]
  },
  {
   "cell_type": "code",
   "execution_count": 113,
   "id": "4b2a394a",
   "metadata": {},
   "outputs": [
    {
     "data": {
      "text/plain": [
       "8.7"
      ]
     },
     "execution_count": 113,
     "metadata": {},
     "output_type": "execute_result"
    }
   ],
   "source": [
    "# solusi kedua\n",
    "# ubah ke dalam bentuk data series dulu, lalu gunakan method z\n",
    "mean_ = z.mean()\n",
    "mean_"
   ]
  },
  {
   "cell_type": "markdown",
   "id": "1341dbfd",
   "metadata": {},
   "source": [
    "# a. Geometric Mean"
   ]
  },
  {
   "cell_type": "code",
   "execution_count": 174,
   "id": "b3e80075",
   "metadata": {},
   "outputs": [
    {
     "data": {
      "text/plain": [
       "array([4, 9, 5, 8, 2, 7, 2, 3, 5, 6])"
      ]
     },
     "execution_count": 174,
     "metadata": {},
     "output_type": "execute_result"
    }
   ],
   "source": [
    "# geometric mean is good at comparison between two things which has different properties\n",
    "x = np.random.randint(1, 10, 10)\n",
    "x"
   ]
  },
  {
   "cell_type": "code",
   "execution_count": 177,
   "id": "5dd4add3",
   "metadata": {},
   "outputs": [
    {
     "name": "stdout",
     "output_type": "stream",
     "text": [
      "4.528728688116765\n"
     ]
    }
   ],
   "source": [
    "# cara manual\n",
    "gmean = 1\n",
    "for xi in x:\n",
    "    gmean *= xi\n",
    "    \n",
    "gmean = gmean**(1/len(x))\n",
    "print(gmean)"
   ]
  },
  {
   "cell_type": "code",
   "execution_count": 179,
   "id": "839d168d",
   "metadata": {},
   "outputs": [
    {
     "data": {
      "text/plain": [
       "4.5287286881167645"
      ]
     },
     "execution_count": 179,
     "metadata": {},
     "output_type": "execute_result"
    }
   ],
   "source": [
    "# cara dengan scipy\n",
    "gmean = scipy.stats.gmean(x)\n",
    "gmean"
   ]
  },
  {
   "cell_type": "code",
   "execution_count": 176,
   "id": "3ce9a806",
   "metadata": {},
   "outputs": [
    {
     "name": "stdout",
     "output_type": "stream",
     "text": [
      "16\n"
     ]
    }
   ],
   "source": [
    "print(4**2)"
   ]
  },
  {
   "cell_type": "markdown",
   "id": "f8160b8f",
   "metadata": {},
   "source": [
    "# b. Harmonic Mean"
   ]
  },
  {
   "cell_type": "code",
   "execution_count": 181,
   "id": "d01da13f",
   "metadata": {},
   "outputs": [
    {
     "data": {
      "text/plain": [
       "3.95418170406402"
      ]
     },
     "execution_count": 181,
     "metadata": {},
     "output_type": "execute_result"
    }
   ],
   "source": [
    "# harmonic good at handling data contains outlier\n",
    "# cara manual\n",
    "hmean = len(x)/sum(1/xi for xi in x)\n",
    "hmean"
   ]
  },
  {
   "cell_type": "code",
   "execution_count": 182,
   "id": "da506632",
   "metadata": {},
   "outputs": [
    {
     "data": {
      "text/plain": [
       "3.95418170406402"
      ]
     },
     "execution_count": 182,
     "metadata": {},
     "output_type": "execute_result"
    }
   ],
   "source": [
    "# pakai scipy\n",
    "hmean = scipy.stats.hmean(x)\n",
    "hmean"
   ]
  },
  {
   "cell_type": "code",
   "execution_count": 183,
   "id": "50f5d4c1",
   "metadata": {},
   "outputs": [
    {
     "name": "stdout",
     "output_type": "stream",
     "text": [
      "Mean:  5.1\n",
      "Geometric mean:  4.5287286881167645\n",
      "Harmonic mean:  3.95418170406402\n"
     ]
    }
   ],
   "source": [
    "print(\"Mean: \", x.mean())\n",
    "print(\"Geometric mean: \", gmean)\n",
    "print(\"Harmonic mean: \", hmean)"
   ]
  },
  {
   "cell_type": "code",
   "execution_count": 119,
   "id": "fcb2b792",
   "metadata": {},
   "outputs": [
    {
     "data": {
      "text/plain": [
       "7"
      ]
     },
     "execution_count": 119,
     "metadata": {},
     "output_type": "execute_result"
    }
   ],
   "source": [
    "range = x.max() - x.min()\n",
    "range"
   ]
  },
  {
   "cell_type": "code",
   "execution_count": 120,
   "id": "58f44335",
   "metadata": {},
   "outputs": [
    {
     "data": {
      "text/plain": [
       "7"
      ]
     },
     "execution_count": 120,
     "metadata": {},
     "output_type": "execute_result"
    }
   ],
   "source": [
    "np.ptp(x)"
   ]
  },
  {
   "cell_type": "code",
   "execution_count": 121,
   "id": "add9a533",
   "metadata": {},
   "outputs": [
    {
     "name": "stdout",
     "output_type": "stream",
     "text": [
      "IQR:  2.75\n"
     ]
    }
   ],
   "source": [
    "q1 = np.quantile(x, 0.25)\n",
    "q3 = np.quantile(x, 0.75)\n",
    "\n",
    "print(\"IQR: \", q3-q1)"
   ]
  },
  {
   "cell_type": "code",
   "execution_count": 122,
   "id": "f47be818",
   "metadata": {},
   "outputs": [
    {
     "data": {
      "text/plain": [
       "6.550000000000001"
      ]
     },
     "execution_count": 122,
     "metadata": {},
     "output_type": "execute_result"
    }
   ],
   "source": [
    "np.quantile(x, 0.975) - np.quantile(x, 0.025)"
   ]
  },
  {
   "cell_type": "markdown",
   "id": "0a81aac1",
   "metadata": {},
   "source": [
    "# 2. Median"
   ]
  },
  {
   "cell_type": "code",
   "execution_count": 190,
   "id": "91c5ca89",
   "metadata": {},
   "outputs": [
    {
     "data": {
      "text/plain": [
       "4"
      ]
     },
     "execution_count": 190,
     "metadata": {},
     "output_type": "execute_result"
    }
   ],
   "source": [
    "# x_ = [8.0, 1, 2.5, 4, 28.0]\n",
    "# cara manual\n",
    "# untuk data ganjil\n",
    "n = len(x_)\n",
    "if n%2:\n",
    "    median_ = sorted(x_)[round(0.5*(n-1))]\n",
    "else:\n",
    "    x_ord, index = sorted(x_), round(0.5*n)\n",
    "    median_ = 0.5 * (x_ord[index-1]+x_ord[index])\n",
    "    \n",
    "median_"
   ]
  },
  {
   "cell_type": "code",
   "execution_count": 198,
   "id": "10e0a0c3",
   "metadata": {},
   "outputs": [
    {
     "data": {
      "text/plain": [
       "4"
      ]
     },
     "execution_count": 198,
     "metadata": {},
     "output_type": "execute_result"
    }
   ],
   "source": [
    "# atau dengan rumus scipy\n",
    "statistics.median(x_)"
   ]
  },
  {
   "cell_type": "code",
   "execution_count": 196,
   "id": "7637b81e",
   "metadata": {},
   "outputs": [
    {
     "data": {
      "text/plain": [
       "3.25"
      ]
     },
     "execution_count": 196,
     "metadata": {},
     "output_type": "execute_result"
    }
   ],
   "source": [
    "# x_ = [8.0, 1, 2.5, 4]\n",
    "# cara manual\n",
    "# untuk data genap\n",
    "n = len(x_[:-1])\n",
    "if n%2:\n",
    "    median_ = sorted(x_[:-1])[round(0.5*(n-1))]\n",
    "else:\n",
    "    x_ord, index = sorted(x_[:-1]), round(0.5*n)\n",
    "    median_ = 0.5 * (x_ord[index-1]+x_ord[index])\n",
    "    \n",
    "median_"
   ]
  },
  {
   "cell_type": "code",
   "execution_count": 197,
   "id": "135518c0",
   "metadata": {},
   "outputs": [
    {
     "data": {
      "text/plain": [
       "3.25"
      ]
     },
     "execution_count": 197,
     "metadata": {},
     "output_type": "execute_result"
    }
   ],
   "source": [
    "# atau dengan rumus scipy\n",
    "statistics.median(x_[:-1])"
   ]
  },
  {
   "cell_type": "code",
   "execution_count": 199,
   "id": "76a21c20",
   "metadata": {},
   "outputs": [
    {
     "data": {
      "text/plain": [
       "2.5"
      ]
     },
     "execution_count": 199,
     "metadata": {},
     "output_type": "execute_result"
    }
   ],
   "source": [
    "# untuk data genap\n",
    "statistics.median_low(x_[:-1])"
   ]
  },
  {
   "cell_type": "code",
   "execution_count": 200,
   "id": "8a1ed77f",
   "metadata": {},
   "outputs": [
    {
     "data": {
      "text/plain": [
       "4"
      ]
     },
     "execution_count": 200,
     "metadata": {},
     "output_type": "execute_result"
    }
   ],
   "source": [
    "statistics.median_high(x_[:-1])"
   ]
  },
  {
   "cell_type": "code",
   "execution_count": 201,
   "id": "d82ed977",
   "metadata": {},
   "outputs": [
    {
     "data": {
      "text/plain": [
       "6.0"
      ]
     },
     "execution_count": 201,
     "metadata": {},
     "output_type": "execute_result"
    }
   ],
   "source": [
    "# untuk data Nan\n",
    "# x_with_nan = [ 8.   1.   2.5  nan  4.  28]\n",
    "statistics.median(x_with_nan)"
   ]
  },
  {
   "cell_type": "code",
   "execution_count": 202,
   "id": "b9fc1134",
   "metadata": {},
   "outputs": [
    {
     "data": {
      "text/plain": [
       "4.0"
      ]
     },
     "execution_count": 202,
     "metadata": {},
     "output_type": "execute_result"
    }
   ],
   "source": [
    "# dengan rumus numpy\n",
    "median_ = np.median(x_)\n",
    "median_"
   ]
  },
  {
   "cell_type": "markdown",
   "id": "aae85863",
   "metadata": {},
   "source": [
    "# 3. Mode"
   ]
  },
  {
   "cell_type": "code",
   "execution_count": 203,
   "id": "a98911b4",
   "metadata": {},
   "outputs": [
    {
     "data": {
      "text/plain": [
       "2"
      ]
     },
     "execution_count": 203,
     "metadata": {},
     "output_type": "execute_result"
    }
   ],
   "source": [
    "# cara manual\n",
    "u = [2, 3, 2, 8, 12]\n",
    "v = [12, 15, 12, 15, 21, 15, 12]\n",
    "\n",
    "mode_ = max((u.count(item), item) for item in set(u))[1]\n",
    "mode_"
   ]
  },
  {
   "cell_type": "code",
   "execution_count": 206,
   "id": "3d78756e",
   "metadata": {},
   "outputs": [
    {
     "data": {
      "text/plain": [
       "2"
      ]
     },
     "execution_count": 206,
     "metadata": {},
     "output_type": "execute_result"
    }
   ],
   "source": [
    "# cara statmode\n",
    "mode_ = statistics.mode(u)\n",
    "mode_\n"
   ]
  },
  {
   "cell_type": "code",
   "execution_count": 208,
   "id": "7e067d6c",
   "metadata": {},
   "outputs": [
    {
     "data": {
      "text/plain": [
       "ModeResult(mode=array([12]), count=array([3]))"
      ]
     },
     "execution_count": 208,
     "metadata": {},
     "output_type": "execute_result"
    }
   ],
   "source": [
    "u, v = np.array(u), np.array(v)\n",
    "\n",
    "mode_ = scipy.stats.mode(v)\n",
    "mode_"
   ]
  },
  {
   "cell_type": "code",
   "execution_count": 211,
   "id": "1ed1d289",
   "metadata": {},
   "outputs": [
    {
     "name": "stdout",
     "output_type": "stream",
     "text": [
      "[12]\n",
      "[3]\n"
     ]
    }
   ],
   "source": [
    "# print modus dengan jumlah kemunculannya\n",
    "# contoh untuk v\n",
    "print(mode_.mode)\n",
    "print(mode_.count)"
   ]
  },
  {
   "cell_type": "code",
   "execution_count": 219,
   "id": "12423aa5",
   "metadata": {},
   "outputs": [
    {
     "name": "stdout",
     "output_type": "stream",
     "text": [
      "0    11.0\n",
      "dtype: float64\n",
      "<bound method Series.count of 0    11.0\n",
      "dtype: float64>\n"
     ]
    }
   ],
   "source": [
    "# method mode dapat secara otomatis mengabaikan nan secara defaultnya\n",
    "new = pd.Series([23, 4, 11, math.nan, 11])\n",
    "hasil = new.mode()\n",
    "\n",
    "print(hasil)\n",
    "print(hasil.count)\n"
   ]
  },
  {
   "cell_type": "markdown",
   "id": "50c65f7a",
   "metadata": {},
   "source": [
    "# Spread"
   ]
  },
  {
   "cell_type": "markdown",
   "id": "46ea04dc",
   "metadata": {},
   "source": [
    "# 1. Variance\n",
    "Mengukur seberapa jauh jarak antar satu data dengan rata-ratanya"
   ]
  },
  {
   "cell_type": "code",
   "execution_count": 53,
   "id": "6109c64f",
   "metadata": {},
   "outputs": [
    {
     "name": "stdout",
     "output_type": "stream",
     "text": [
      "Rata-rata:  8.7\n",
      "Varians:  123.19999999999999\n"
     ]
    }
   ],
   "source": [
    "# cara menghitung sample variance\n",
    "n = len(x_)\n",
    "mean_ = sum(x_)/n\n",
    "# atau\n",
    "# mean_ = statistics.mean(x_)\n",
    "# mean_\n",
    "\n",
    "# Hitung variasinya\n",
    "# 1. cara manual\n",
    "var_ = sum((xi - mean_)**2 for xi in x_)/(n-1) \n",
    "# 2. atau cara statistics\n",
    "# var_ = statistics.variance(x_)\n",
    "# 3. atau cara numpy \n",
    "# var_ = np.var(x_, ddof=1)\n",
    "# 4. atau cara ini (harus bentuk ndarray)\n",
    "# var_ = y.var(ddof=1)\n",
    "\n",
    "# print hasil\n",
    "print(\"Rata-rata: \", mean_)\n",
    "print(\"Varians: \", var_)\n",
    "\n"
   ]
  },
  {
   "cell_type": "code",
   "execution_count": 51,
   "id": "3b3c2a78",
   "metadata": {},
   "outputs": [
    {
     "data": {
      "text/plain": [
       "98.55999999999999"
      ]
     },
     "execution_count": 51,
     "metadata": {},
     "output_type": "execute_result"
    }
   ],
   "source": [
    "# cara menghitung population variance\n",
    "# 1. cara manual\n",
    "var_p = sum((xi - mean_)**2 for xi in x_)/(n) \n",
    "var_p\n",
    "# 2. cara statistics\n",
    "# statistics.pvariance(x_)\n",
    "# 3. cara numpy\n",
    "# np.var(x_, ddof=0)\n",
    "# 4. cara ndarray\n",
    "# var_p = y.var(ddof=0)\n",
    "# var_p"
   ]
  },
  {
   "cell_type": "markdown",
   "id": "5cb937d5",
   "metadata": {},
   "source": [
    "# 2. Standard Deviation\n",
    "Sama seperti varians, hanya saja lebih optimal karena nilainya sama dengan data point"
   ]
  },
  {
   "cell_type": "code",
   "execution_count": 82,
   "id": "9a22a3a3",
   "metadata": {},
   "outputs": [
    {
     "data": {
      "text/plain": [
       "11.099549540409285"
      ]
     },
     "execution_count": 82,
     "metadata": {},
     "output_type": "execute_result"
    }
   ],
   "source": [
    "# cara menghitung sample std\n",
    "# 1. cara manual\n",
    "std = var_ ** 0.5\n",
    "std\n",
    "# 2. cara statistics\n",
    "# statistics.stdev(x_)\n",
    "# 3. cara numpy\n",
    "# np.std(x_, ddof=1)\n",
    "# 4. cara ndarray\n",
    "# y.std(ddof=1)"
   ]
  },
  {
   "cell_type": "code",
   "execution_count": 81,
   "id": "656e77cd",
   "metadata": {},
   "outputs": [
    {
     "data": {
      "text/plain": [
       "9.927738916792684"
      ]
     },
     "execution_count": 81,
     "metadata": {},
     "output_type": "execute_result"
    }
   ],
   "source": [
    "# cara menghitung population std\n",
    "# 1. cara manual\n",
    "std_p = var_p ** 0.5\n",
    "std_p\n",
    "# 2. cara statistics\n",
    "# statistics.pstdev(x_)\n",
    "# 3. cara numpy\n",
    "# np.std(x_, ddof=0)\n",
    "# 4. cara ndarray\n",
    "# y.std(ddof=0)"
   ]
  },
  {
   "cell_type": "markdown",
   "id": "4528cece",
   "metadata": {},
   "source": [
    "# 2. Skew\n",
    "Mengukur asimetri sampel data"
   ]
  },
  {
   "cell_type": "code",
   "execution_count": 83,
   "id": "7f954d77",
   "metadata": {},
   "outputs": [
    {
     "data": {
      "text/plain": [
       "1.9470432273905929"
      ]
     },
     "execution_count": 83,
     "metadata": {},
     "output_type": "execute_result"
    }
   ],
   "source": [
    "# menghitung sample skewness\n",
    "skew = (sum((xi - mean_)**3 for xi in x_)*n / ((n-1)*(n-2)*std**3))\n",
    "skew"
   ]
  },
  {
   "cell_type": "markdown",
   "id": "89718a37",
   "metadata": {},
   "source": [
    "Hasil diatas menunujukkan angka +, artinya kita punya right-side tail"
   ]
  },
  {
   "cell_type": "code",
   "execution_count": 85,
   "id": "dae8f352",
   "metadata": {},
   "outputs": [
    {
     "data": {
      "text/plain": [
       "1.9470432273905927"
      ]
     },
     "execution_count": 85,
     "metadata": {},
     "output_type": "execute_result"
    }
   ],
   "source": [
    "# 1. cara statistics\n",
    "scipy.stats.skew(x_, bias=False)\n",
    "# bias = False -> mengaktifkan koreksi bias statistik\n",
    "# tapi cara statistics ini tidak cocok untuk data yg nan"
   ]
  },
  {
   "cell_type": "code",
   "execution_count": 91,
   "id": "a7a22bd0",
   "metadata": {},
   "outputs": [
    {
     "data": {
      "text/plain": [
       "1.9470432273905924"
      ]
     },
     "execution_count": 91,
     "metadata": {},
     "output_type": "execute_result"
    }
   ],
   "source": [
    "# solusinya\n",
    "# ubah data nan tdi ke series gunakan method .skew()\n",
    "z_with_nan.skew()"
   ]
  },
  {
   "cell_type": "code",
   "execution_count": 89,
   "id": "74030042",
   "metadata": {},
   "outputs": [
    {
     "data": {
      "text/plain": [
       "pandas.core.series.Series"
      ]
     },
     "execution_count": 89,
     "metadata": {},
     "output_type": "execute_result"
    }
   ],
   "source": [
    "type(z_with_nan)"
   ]
  },
  {
   "cell_type": "code",
   "execution_count": 130,
   "id": "147174b6",
   "metadata": {},
   "outputs": [
    {
     "data": {
      "text/plain": [
       "<seaborn.axisgrid.FacetGrid at 0x1e33de13190>"
      ]
     },
     "execution_count": 130,
     "metadata": {},
     "output_type": "execute_result"
    },
    {
     "data": {
      "image/png": "[encoded data removed]",
      "text/plain": [
       "<Figure size 360x360 with 1 Axes>"
      ]
     },
     "metadata": {
      "needs_background": "light"
     },
     "output_type": "display_data"
    }
   ],
   "source": [
    "x1 = scipy.stats.skewnorm.rvs(a=10, size=10000, loc=0)\n",
    "sns.displot(x1)"
   ]
  },
  {
   "cell_type": "code",
   "execution_count": 131,
   "id": "4d1ead3e",
   "metadata": {},
   "outputs": [
    {
     "name": "stderr",
     "output_type": "stream",
     "text": [
      "C:\\Users\\LENOVO\\AppData\\Local\\Temp\\ipykernel_4520\\2534787247.py:1: RuntimeWarning: invalid value encountered in sqrt\n",
      "  sns.displot(x1**0.5)\n"
     ]
    },
    {
     "data": {
      "text/plain": [
       "<seaborn.axisgrid.FacetGrid at 0x1e33b14c8b0>"
      ]
     },
     "execution_count": 131,
     "metadata": {},
     "output_type": "execute_result"
    },
    {
     "data": {
      "image/png": "[encoded data removed]",
      "text/plain": [
       "<Figure size 360x360 with 1 Axes>"
      ]
     },
     "metadata": {
      "needs_background": "light"
     },
     "output_type": "display_data"
    }
   ],
   "source": [
    "sns.displot(x1**0.5)"
   ]
  },
  {
   "cell_type": "code",
   "execution_count": null,
   "id": "b27cd034",
   "metadata": {},
   "outputs": [],
   "source": [
    "# 3. Percentils"
   ]
  },
  {
   "cell_type": "code",
   "execution_count": null,
   "id": "3f43dc98",
   "metadata": {},
   "outputs": [],
   "source": [
    "# 4. Range"
   ]
  },
  {
   "cell_type": "code",
   "execution_count": null,
   "id": "e6b5e667",
   "metadata": {},
   "outputs": [],
   "source": []
  },
  {
   "cell_type": "code",
   "execution_count": null,
   "id": "9fa8cc53",
   "metadata": {},
   "outputs": [],
   "source": []
  },
  {
   "cell_type": "markdown",
   "id": "c97e5d46",
   "metadata": {},
   "source": [
    "# 3. Kurtosis\n",
    "1. Mesokurtic(0)\n",
    "2. Platykurtic(-)\n",
    "3. Leptokurtic(+)"
   ]
  },
  {
   "cell_type": "code",
   "execution_count": 132,
   "id": "2a296d8d",
   "metadata": {},
   "outputs": [
    {
     "data": {
      "text/plain": [
       "-1.295451067724136"
      ]
     },
     "execution_count": 132,
     "metadata": {},
     "output_type": "execute_result"
    }
   ],
   "source": [
    "scipy.stats.kurtosis(x)\n"
   ]
  },
  {
   "cell_type": "code",
   "execution_count": 133,
   "id": "cac28960",
   "metadata": {},
   "outputs": [
    {
     "data": {
      "text/plain": [
       "DescribeResult(nobs=100, minmax=(0.002981076668044924, 0.9926234781679959), mean=0.5182873332527046, variance=0.0946698907945594, skewness=-0.07681209523700433, kurtosis=-1.3001488771484995)"
      ]
     },
     "execution_count": 133,
     "metadata": {},
     "output_type": "execute_result"
    }
   ],
   "source": [
    "result = scipy.stats.describe(x, ddof=1, bias=False)\n",
    "result"
   ]
  },
  {
   "cell_type": "code",
   "execution_count": 134,
   "id": "23761948",
   "metadata": {},
   "outputs": [
    {
     "data": {
      "text/plain": [
       "count    100.000000\n",
       "mean       0.518287\n",
       "std        0.307685\n",
       "min        0.002981\n",
       "25%        0.206973\n",
       "50%        0.532953\n",
       "75%        0.821581\n",
       "max        0.992623\n",
       "dtype: float64"
      ]
     },
     "execution_count": 134,
     "metadata": {},
     "output_type": "execute_result"
    }
   ],
   "source": [
    "pd.Series(x).describe()"
   ]
  },
  {
   "cell_type": "markdown",
   "id": "9c267f07",
   "metadata": {},
   "source": [
    "# 4. Correlation"
   ]
  },
  {
   "cell_type": "code",
   "execution_count": null,
   "id": "7a2417c8",
   "metadata": {},
   "outputs": [],
   "source": []
  },
  {
   "cell_type": "code",
   "execution_count": null,
   "id": "52b5bcee",
   "metadata": {},
   "outputs": [],
   "source": []
  },
  {
   "cell_type": "code",
   "execution_count": null,
   "id": "b3a58def",
   "metadata": {},
   "outputs": [],
   "source": []
  },
  {
   "cell_type": "code",
   "execution_count": null,
   "id": "50dc5622",
   "metadata": {},
   "outputs": [],
   "source": []
  },
  {
   "cell_type": "code",
   "execution_count": null,
   "id": "2fa1b886",
   "metadata": {},
   "outputs": [],
   "source": []
  }
 ],
 "metadata": {
  "kernelspec": {
   "display_name": "Python 3 (ipykernel)",
   "language": "python",
   "name": "python3"
  },
  "language_info": {
   "codemirror_mode": {
    "name": "ipython",
    "version": 3
   },
   "file_extension": ".py",
   "mimetype": "text/x-python",
   "name": "python",
   "nbconvert_exporter": "python",
   "pygments_lexer": "ipython3",
   "version": "3.9.12"
  }
 },
 "nbformat": 4,
 "nbformat_minor": 5
}
