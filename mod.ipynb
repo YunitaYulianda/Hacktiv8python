{
 "cells": [
  {
   "cell_type": "code",
   "execution_count": 1,
   "id": "bd29aee1",
   "metadata": {},
   "outputs": [],
   "source": [
    "s = \"Tutorial Python Kampus Merdeka\"\n",
    "mylist = [10,20,30,40]\n",
    "\n",
    "def fungsi_kostum(x,y,z):\n",
    "    return x**2 + y*z"
   ]
  },
  {
   "cell_type": "code",
   "execution_count": null,
   "id": "46d74f06",
   "metadata": {},
   "outputs": [],
   "source": []
  }
 ],
 "metadata": {
  "kernelspec": {
   "display_name": "Python 3 (ipykernel)",
   "language": "python",
   "name": "python3"
  },
  "language_info": {
   "codemirror_mode": {
    "name": "ipython",
    "version": 3
   },
   "file_extension": ".py",
   "mimetype": "text/x-python",
   "name": "python",
   "nbconvert_exporter": "python",
   "pygments_lexer": "ipython3",
   "version": "3.9.12"
  }
 },
 "nbformat": 4,
 "nbformat_minor": 5
}
