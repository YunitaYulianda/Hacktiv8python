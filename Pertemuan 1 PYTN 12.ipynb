{
 "cells": [
  {
   "cell_type": "code",
   "execution_count": 1,
   "id": "78619b19",
   "metadata": {},
   "outputs": [
    {
     "name": "stdout",
     "output_type": "stream",
     "text": [
      "Hello World !\n"
     ]
    }
   ],
   "source": [
    "print(\"Hello World !\")"
   ]
  },
  {
   "cell_type": "markdown",
   "id": "a9dd30ca",
   "metadata": {},
   "source": [
    "## INTEGER"
   ]
  },
  {
   "cell_type": "code",
   "execution_count": 2,
   "id": "ea5fd2ad",
   "metadata": {},
   "outputs": [
    {
     "data": {
      "text/plain": [
       "2"
      ]
     },
     "execution_count": 2,
     "metadata": {},
     "output_type": "execute_result"
    }
   ],
   "source": [
    "1+1"
   ]
  },
  {
   "cell_type": "code",
   "execution_count": 5,
   "id": "184c0874",
   "metadata": {},
   "outputs": [
    {
     "name": "stdout",
     "output_type": "stream",
     "text": [
      "0\n"
     ]
    }
   ],
   "source": [
    "print(0)"
   ]
  },
  {
   "cell_type": "code",
   "execution_count": 6,
   "id": "8b616f7d",
   "metadata": {},
   "outputs": [
    {
     "data": {
      "text/plain": [
       "-12345"
      ]
     },
     "execution_count": 6,
     "metadata": {},
     "output_type": "execute_result"
    }
   ],
   "source": [
    "-12345"
   ]
  },
  {
   "cell_type": "code",
   "execution_count": 15,
   "id": "10730409",
   "metadata": {},
   "outputs": [
    {
     "name": "stdout",
     "output_type": "stream",
     "text": [
      "1236\n"
     ]
    }
   ],
   "source": [
    "print(1234 + 2)"
   ]
  },
  {
   "cell_type": "markdown",
   "id": "ee8642e0",
   "metadata": {},
   "source": [
    "## FLOAT"
   ]
  },
  {
   "cell_type": "code",
   "execution_count": 7,
   "id": "08feade8",
   "metadata": {},
   "outputs": [
    {
     "data": {
      "text/plain": [
       "2.3"
      ]
     },
     "execution_count": 7,
     "metadata": {},
     "output_type": "execute_result"
    }
   ],
   "source": [
    "2.3"
   ]
  },
  {
   "cell_type": "code",
   "execution_count": 8,
   "id": "b39dffb7",
   "metadata": {},
   "outputs": [
    {
     "name": "stdout",
     "output_type": "stream",
     "text": [
      "-2.3\n"
     ]
    }
   ],
   "source": [
    "print(-2.3)"
   ]
  },
  {
   "cell_type": "code",
   "execution_count": 10,
   "id": "2a07b8a5",
   "metadata": {},
   "outputs": [
    {
     "name": "stdout",
     "output_type": "stream",
     "text": [
      "0.4\n",
      "0.4\n",
      "2300000.0\n",
      "0.0005\n"
     ]
    }
   ],
   "source": [
    "print(0.4)\n",
    "print(.4)\n",
    "\n",
    "print(2.3e6)\n",
    "print(5e-4)"
   ]
  },
  {
   "cell_type": "markdown",
   "id": "7836de48",
   "metadata": {},
   "source": [
    "## STRING\n",
    "\n",
    "Men-define String"
   ]
  },
  {
   "cell_type": "code",
   "execution_count": 14,
   "id": "f3790e6c",
   "metadata": {},
   "outputs": [
    {
     "name": "stdout",
     "output_type": "stream",
     "text": [
      "Yunita Yulianda\n",
      "123456\n",
      "12345\n",
      "Hacktiv8\n",
      "Yunita belajar Hacktiv8 (\")\n",
      "Yunita belajar Hacktiv8 (')\n"
     ]
    }
   ],
   "source": [
    "print(\"Yunita Yulianda\")\n",
    "\n",
    "print(\"123456\")#angka tapi ini string\n",
    "print(12345)\n",
    "\n",
    "print(\"Hacktiv8\")\n",
    "\n",
    "print('Yunita belajar Hacktiv8 (\")')#bisa juga pakai kutip 1\n",
    "print(\"Yunita belajar Hacktiv8 (')\")#bisa juga pakai kutip 1"
   ]
  },
  {
   "cell_type": "markdown",
   "id": "6d6ef922",
   "metadata": {},
   "source": [
    "BOOLEAN"
   ]
  },
  {
   "cell_type": "code",
   "execution_count": 16,
   "id": "d055a7da",
   "metadata": {},
   "outputs": [
    {
     "name": "stdout",
     "output_type": "stream",
     "text": [
      "True\n",
      "False\n"
     ]
    }
   ],
   "source": [
    "print(True)\n",
    "print(False)"
   ]
  },
  {
   "cell_type": "code",
   "execution_count": 17,
   "id": "dc11e730",
   "metadata": {},
   "outputs": [
    {
     "name": "stdout",
     "output_type": "stream",
     "text": [
      "<class 'bool'>\n"
     ]
    }
   ],
   "source": [
    "print(type(True))"
   ]
  },
  {
   "cell_type": "markdown",
   "id": "b9f0d892",
   "metadata": {},
   "source": [
    "## VARIABLE ASSIGNMENT\n",
    "\n",
    "Sesuatu untuk menyimpan nilai <br>\n",
    "dan Variable itu case sensitive"
   ]
  },
  {
   "cell_type": "code",
   "execution_count": 18,
   "id": "794d3566",
   "metadata": {},
   "outputs": [
    {
     "name": "stdout",
     "output_type": "stream",
     "text": [
      "3000\n"
     ]
    }
   ],
   "source": [
    "x = 3000\n",
    "\n",
    "print(x)"
   ]
  },
  {
   "cell_type": "code",
   "execution_count": 19,
   "id": "d24cfbba",
   "metadata": {},
   "outputs": [
    {
     "name": "stdout",
     "output_type": "stream",
     "text": [
      "3002\n"
     ]
    }
   ],
   "source": [
    "print(x + 2)"
   ]
  },
  {
   "cell_type": "code",
   "execution_count": 23,
   "id": "e027b708",
   "metadata": {},
   "outputs": [
    {
     "name": "stdout",
     "output_type": "stream",
     "text": [
      "600\n",
      "100\n"
     ]
    }
   ],
   "source": [
    "a = 100\n",
    "b = 200\n",
    "c = 300\n",
    "\n",
    "print(a + b + c)\n",
    "\n",
    "print(a)\n"
   ]
  },
  {
   "cell_type": "code",
   "execution_count": 25,
   "id": "183795eb",
   "metadata": {},
   "outputs": [
    {
     "name": "stdout",
     "output_type": "stream",
     "text": [
      "<class 'float'>\n",
      "<class 'bool'>\n",
      "<class 'str'>\n",
      "<class 'int'>\n"
     ]
    }
   ],
   "source": [
    "a = 12.3\n",
    "b = False\n",
    "c = \"Hacktiv8\"\n",
    "d = 1\n",
    "\n",
    "print(type(a))\n",
    "print(type(b))\n",
    "print(type(c))\n",
    "print(type(d))"
   ]
  },
  {
   "cell_type": "code",
   "execution_count": 30,
   "id": "bd80207d",
   "metadata": {},
   "outputs": [
    {
     "name": "stdout",
     "output_type": "stream",
     "text": [
      "Kata\n",
      "<class 'str'>\n"
     ]
    },
    {
     "data": {
      "text/plain": [
       "390"
      ]
     },
     "execution_count": 30,
     "metadata": {},
     "output_type": "execute_result"
    }
   ],
   "source": [
    "\n",
    "a = \"Kata\" #perlu diperhatikan untuk tipe data harus sama terus\n",
    "print(a)\n",
    "print(type(a))\n",
    "\n",
    "#Ubah float jadi integer\n",
    "int(390.8)"
   ]
  },
  {
   "cell_type": "code",
   "execution_count": 28,
   "id": "884c54ca",
   "metadata": {},
   "outputs": [
    {
     "name": "stdout",
     "output_type": "stream",
     "text": [
      "20 Yunita True\n"
     ]
    }
   ],
   "source": [
    "umur = 20\n",
    "nama_depan = \"Yunita\"\n",
    "Mahasiswa = True\n",
    "\n",
    "print(umur, nama_depan, Mahasiswa)"
   ]
  },
  {
   "cell_type": "code",
   "execution_count": 31,
   "id": "ee78f05b",
   "metadata": {},
   "outputs": [
    {
     "name": "stdout",
     "output_type": "stream",
     "text": [
      "1234\n"
     ]
    }
   ],
   "source": [
    "banyak1 = 1234\n",
    "print(banyak1)"
   ]
  },
  {
   "cell_type": "markdown",
   "id": "e8ac8852",
   "metadata": {},
   "source": [
    "## OPERATORS"
   ]
  },
  {
   "cell_type": "code",
   "execution_count": 32,
   "id": "19683306",
   "metadata": {},
   "outputs": [
    {
     "data": {
      "text/plain": [
       "8"
      ]
     },
     "execution_count": 32,
     "metadata": {},
     "output_type": "execute_result"
    }
   ],
   "source": [
    "3 + 5 #penjumlahan"
   ]
  },
  {
   "cell_type": "code",
   "execution_count": 33,
   "id": "d9cd5295",
   "metadata": {},
   "outputs": [
    {
     "data": {
      "text/plain": [
       "15"
      ]
     },
     "execution_count": 33,
     "metadata": {},
     "output_type": "execute_result"
    }
   ],
   "source": [
    "3 * 5 #perkalian"
   ]
  },
  {
   "cell_type": "code",
   "execution_count": 34,
   "id": "d7caaca9",
   "metadata": {},
   "outputs": [
    {
     "data": {
      "text/plain": [
       "0.7"
      ]
     },
     "execution_count": 34,
     "metadata": {},
     "output_type": "execute_result"
    }
   ],
   "source": [
    "7/10 #pembagian"
   ]
  },
  {
   "cell_type": "code",
   "execution_count": 35,
   "id": "06c1b98a",
   "metadata": {},
   "outputs": [
    {
     "data": {
      "text/plain": [
       "64"
      ]
     },
     "execution_count": 35,
     "metadata": {},
     "output_type": "execute_result"
    }
   ],
   "source": [
    "2 ** 6 #perkalian"
   ]
  },
  {
   "cell_type": "code",
   "execution_count": 37,
   "id": "8aecbd96",
   "metadata": {},
   "outputs": [
    {
     "data": {
      "text/plain": [
       "7"
      ]
     },
     "execution_count": 37,
     "metadata": {},
     "output_type": "execute_result"
    }
   ],
   "source": [
    "15 % 8 #modulo"
   ]
  },
  {
   "cell_type": "code",
   "execution_count": 43,
   "id": "4573f592",
   "metadata": {},
   "outputs": [
    {
     "name": "stdout",
     "output_type": "stream",
     "text": [
      "<class 'int'>\n",
      "4\n"
     ]
    }
   ],
   "source": [
    "#Manipulasi boolean\n",
    "\n",
    "a = True + 3\n",
    "\n",
    "print(type(True + 3))\n",
    "print(a)\n"
   ]
  },
  {
   "cell_type": "code",
   "execution_count": 44,
   "id": "3fc502b8",
   "metadata": {},
   "outputs": [
    {
     "name": "stdout",
     "output_type": "stream",
     "text": [
      "4\n"
     ]
    }
   ],
   "source": [
    "a = 5\n",
    "b = 3\n",
    "print(a+b-4)"
   ]
  },
  {
   "cell_type": "code",
   "execution_count": 45,
   "id": "e35e7ad1",
   "metadata": {},
   "outputs": [
    {
     "name": "stdout",
     "output_type": "stream",
     "text": [
      "1.6666666666666667\n",
      "125\n"
     ]
    }
   ],
   "source": [
    "print (a/b)\n",
    "print (a**b)"
   ]
  },
  {
   "cell_type": "markdown",
   "id": "7fbdc18f",
   "metadata": {},
   "source": [
    "## COMPARISON"
   ]
  },
  {
   "cell_type": "code",
   "execution_count": 49,
   "id": "8b85c5d2",
   "metadata": {},
   "outputs": [
    {
     "name": "stdout",
     "output_type": "stream",
     "text": [
      "False\n",
      "True\n"
     ]
    }
   ],
   "source": [
    "a = 10\n",
    "b = 20\n",
    "\n",
    "print(a == b)\n",
    "print(a != b)"
   ]
  },
  {
   "cell_type": "code",
   "execution_count": 52,
   "id": "be3f8988",
   "metadata": {},
   "outputs": [
    {
     "name": "stdout",
     "output_type": "stream",
     "text": [
      "True\n",
      "True\n",
      "True\n",
      "False\n"
     ]
    }
   ],
   "source": [
    "a = 30\n",
    "b = 30\n",
    "\n",
    "print(a >= b)\n",
    "print(a >= b)\n",
    "print(a <= b)\n",
    "print(a < b)"
   ]
  },
  {
   "cell_type": "code",
   "execution_count": 53,
   "id": "7cafc8d2",
   "metadata": {},
   "outputs": [
    {
     "data": {
      "text/plain": [
       "True"
      ]
     },
     "execution_count": 53,
     "metadata": {},
     "output_type": "execute_result"
    }
   ],
   "source": [
    "b > 25"
   ]
  },
  {
   "cell_type": "markdown",
   "id": "4c032ca7",
   "metadata": {},
   "source": [
    "## STRING MANIPULATION"
   ]
  },
  {
   "cell_type": "code",
   "execution_count": 55,
   "id": "81e45b45",
   "metadata": {},
   "outputs": [
    {
     "name": "stdout",
     "output_type": "stream",
     "text": [
      "abcdef\n"
     ]
    }
   ],
   "source": [
    "a = 'abc'\n",
    "b = 'def'\n",
    "c = 'hij'\n",
    "\n",
    "print(a + b)\n"
   ]
  },
  {
   "cell_type": "code",
   "execution_count": 58,
   "id": "60d57a1d",
   "metadata": {},
   "outputs": [
    {
     "name": "stdout",
     "output_type": "stream",
     "text": [
      "abc def\n"
     ]
    }
   ],
   "source": [
    "print(a +\" \"+ b)"
   ]
  },
  {
   "cell_type": "markdown",
   "id": "0af1317a",
   "metadata": {},
   "source": [
    "## OPERASI KALI"
   ]
  },
  {
   "cell_type": "code",
   "execution_count": 62,
   "id": "97d28423",
   "metadata": {},
   "outputs": [
    {
     "name": "stdout",
     "output_type": "stream",
     "text": [
      "xxxx\n",
      "abcabcabcabc\n"
     ]
    }
   ],
   "source": [
    "x = 'abc'\n",
    "\n",
    "print('x' * 4)\n",
    "print(x * 4)"
   ]
  },
  {
   "cell_type": "code",
   "execution_count": 68,
   "id": "0cddc1b3",
   "metadata": {},
   "outputs": [
    {
     "data": {
      "text/plain": [
       "True"
      ]
     },
     "execution_count": 68,
     "metadata": {},
     "output_type": "execute_result"
    }
   ],
   "source": [
    "#apakah string dikiri adalah substring dari kalimat dikanan\n",
    "s = 'foo'\n",
    "\n",
    "s in \"That is food\""
   ]
  },
  {
   "cell_type": "code",
   "execution_count": 69,
   "id": "0e4eef2c",
   "metadata": {},
   "outputs": [
    {
     "data": {
      "text/plain": [
       "False"
      ]
     },
     "execution_count": 69,
     "metadata": {},
     "output_type": "execute_result"
    }
   ],
   "source": [
    "\"one\" > \"two\" #karena asci ataupun huruf awal mempengaruhi"
   ]
  },
  {
   "cell_type": "markdown",
   "id": "08cee4b1",
   "metadata": {},
   "source": [
    "## MANIPULATION STRING"
   ]
  },
  {
   "cell_type": "code",
   "execution_count": 70,
   "id": "91869ebb",
   "metadata": {},
   "outputs": [
    {
     "name": "stdout",
     "output_type": "stream",
     "text": [
      "Hacktiv8\n",
      "hacktiv8\n",
      "hACKTIV8\n",
      "Hacktiv8\n",
      "HACKTIV8\n"
     ]
    }
   ],
   "source": [
    "s = \"Hacktiv8\"\n",
    "\n",
    "print(s.capitalize())\n",
    "print(s.lower())\n",
    "print(s.swapcase())\n",
    "print(s.title())\n",
    "print(s.upper())"
   ]
  },
  {
   "cell_type": "markdown",
   "id": "07313d8c",
   "metadata": {},
   "source": [
    "## LIST\n",
    "\n",
    "List bisa menyimpan banyak benda"
   ]
  },
  {
   "cell_type": "code",
   "execution_count": 71,
   "id": "85b64cef",
   "metadata": {},
   "outputs": [],
   "source": [
    "a = [1,2,3,4,5,6]\n",
    "b = [\"abc\", \"def\", \"hij\"]"
   ]
  },
  {
   "cell_type": "code",
   "execution_count": 72,
   "id": "7f774389",
   "metadata": {},
   "outputs": [
    {
     "name": "stdout",
     "output_type": "stream",
     "text": [
      "[1, 2, 3, 4, 5, 6]\n",
      "['abc', 'def', 'hij']\n"
     ]
    }
   ],
   "source": [
    "print(a)\n",
    "print(b)"
   ]
  },
  {
   "cell_type": "code",
   "execution_count": 73,
   "id": "24ecde8b",
   "metadata": {},
   "outputs": [
    {
     "data": {
      "text/plain": [
       "6"
      ]
     },
     "execution_count": 73,
     "metadata": {},
     "output_type": "execute_result"
    }
   ],
   "source": [
    "a[5]"
   ]
  },
  {
   "cell_type": "code",
   "execution_count": 78,
   "id": "ad4b5a92",
   "metadata": {},
   "outputs": [
    {
     "data": {
      "text/plain": [
       "'hij'"
      ]
     },
     "execution_count": 78,
     "metadata": {},
     "output_type": "execute_result"
    }
   ],
   "source": [
    "b[2]"
   ]
  },
  {
   "cell_type": "code",
   "execution_count": 79,
   "id": "eeafc9d2",
   "metadata": {},
   "outputs": [
    {
     "data": {
      "text/plain": [
       "5"
      ]
     },
     "execution_count": 79,
     "metadata": {},
     "output_type": "execute_result"
    }
   ],
   "source": [
    "a[-2]"
   ]
  },
  {
   "cell_type": "code",
   "execution_count": 80,
   "id": "78dff3c8",
   "metadata": {},
   "outputs": [],
   "source": [
    "s = s.title()"
   ]
  },
  {
   "cell_type": "code",
   "execution_count": 81,
   "id": "fa678d79",
   "metadata": {},
   "outputs": [
    {
     "data": {
      "text/plain": [
       "'Hacktiv8'"
      ]
     },
     "execution_count": 81,
     "metadata": {},
     "output_type": "execute_result"
    }
   ],
   "source": [
    "s"
   ]
  },
  {
   "cell_type": "code",
   "execution_count": 82,
   "id": "0b5caacc",
   "metadata": {},
   "outputs": [
    {
     "data": {
      "text/plain": [
       "'H'"
      ]
     },
     "execution_count": 82,
     "metadata": {},
     "output_type": "execute_result"
    }
   ],
   "source": [
    "s[0]"
   ]
  },
  {
   "cell_type": "code",
   "execution_count": 83,
   "id": "7733bd5a",
   "metadata": {},
   "outputs": [
    {
     "data": {
      "text/plain": [
       "[4, 3, 4, 3, 4, 3]"
      ]
     },
     "execution_count": 83,
     "metadata": {},
     "output_type": "execute_result"
    }
   ],
   "source": [
    "[4,3] * 3"
   ]
  },
  {
   "cell_type": "code",
   "execution_count": 89,
   "id": "d6b432aa",
   "metadata": {},
   "outputs": [
    {
     "data": {
      "text/plain": [
       "['def', 'hij', 'klm', 'nop']"
      ]
     },
     "execution_count": 89,
     "metadata": {},
     "output_type": "execute_result"
    }
   ],
   "source": [
    "list = [\"abc\", \"def\", \"hij\", \"klm\", \"nop\"]\n",
    "list [1:5] #slicing, ambil satu hal yang sama"
   ]
  },
  {
   "cell_type": "code",
   "execution_count": 87,
   "id": "c2b08041",
   "metadata": {},
   "outputs": [
    {
     "data": {
      "text/plain": [
       "'acktiv'"
      ]
     },
     "execution_count": 87,
     "metadata": {},
     "output_type": "execute_result"
    }
   ],
   "source": [
    "s[1:7]"
   ]
  },
  {
   "cell_type": "code",
   "execution_count": 90,
   "id": "625abc5d",
   "metadata": {},
   "outputs": [
    {
     "data": {
      "text/plain": [
       "[1, 2, 3, 4, 5, 6, 'abc', 'def', 'hij']"
      ]
     },
     "execution_count": 90,
     "metadata": {},
     "output_type": "execute_result"
    }
   ],
   "source": [
    "a + b"
   ]
  },
  {
   "cell_type": "code",
   "execution_count": 105,
   "id": "bfe2b3cf",
   "metadata": {},
   "outputs": [
    {
     "name": "stdout",
     "output_type": "stream",
     "text": [
      "6\n",
      "6\n",
      "1\n",
      "abc\n"
     ]
    }
   ],
   "source": [
    "print(len(a))\n",
    "print(max(a))\n",
    "print(min(a))\n",
    "print(min(b))"
   ]
  },
  {
   "cell_type": "code",
   "execution_count": 106,
   "id": "b3f8f897",
   "metadata": {},
   "outputs": [
    {
     "data": {
      "text/plain": [
       "[1, 2, 3, 4, 5, 6]"
      ]
     },
     "execution_count": 106,
     "metadata": {},
     "output_type": "execute_result"
    }
   ],
   "source": [
    "a"
   ]
  },
  {
   "cell_type": "code",
   "execution_count": 107,
   "id": "5e321d46",
   "metadata": {},
   "outputs": [
    {
     "name": "stdout",
     "output_type": "stream",
     "text": [
      "[1, 2, 8, 4, 5, 6]\n"
     ]
    }
   ],
   "source": [
    "a[2] = 8\n",
    "print(a)"
   ]
  },
  {
   "cell_type": "code",
   "execution_count": 108,
   "id": "082a1bb1",
   "metadata": {},
   "outputs": [
    {
     "name": "stdout",
     "output_type": "stream",
     "text": [
      "8\n"
     ]
    }
   ],
   "source": [
    "print(max(a))"
   ]
  },
  {
   "cell_type": "code",
   "execution_count": 109,
   "id": "e73ec5d6",
   "metadata": {},
   "outputs": [],
   "source": [
    "del a[2]"
   ]
  },
  {
   "cell_type": "code",
   "execution_count": 110,
   "id": "625c1d6c",
   "metadata": {},
   "outputs": [
    {
     "name": "stdout",
     "output_type": "stream",
     "text": [
      "[1, 2, 4, 5, 6]\n"
     ]
    }
   ],
   "source": [
    "print(a)"
   ]
  },
  {
   "cell_type": "code",
   "execution_count": 111,
   "id": "54dcbe49",
   "metadata": {},
   "outputs": [
    {
     "data": {
      "text/plain": [
       "['def', 'hij']"
      ]
     },
     "execution_count": 111,
     "metadata": {},
     "output_type": "execute_result"
    }
   ],
   "source": [
    "b[1:4]"
   ]
  },
  {
   "cell_type": "code",
   "execution_count": 112,
   "id": "065c76c1",
   "metadata": {},
   "outputs": [],
   "source": [
    "b[1:4] = ['a', 'b', 'c']"
   ]
  },
  {
   "cell_type": "code",
   "execution_count": 113,
   "id": "c0e65049",
   "metadata": {},
   "outputs": [
    {
     "name": "stdout",
     "output_type": "stream",
     "text": [
      "['abc', 'a', 'b', 'c']\n"
     ]
    }
   ],
   "source": [
    "print(b)"
   ]
  },
  {
   "cell_type": "markdown",
   "id": "3cbb3f71",
   "metadata": {},
   "source": [
    "## TUPLES\n",
    "\n",
    "Bnetuk sederhana dari list"
   ]
  },
  {
   "cell_type": "code",
   "execution_count": 117,
   "id": "b6692c2a",
   "metadata": {},
   "outputs": [
    {
     "data": {
      "text/plain": [
       "3"
      ]
     },
     "execution_count": 117,
     "metadata": {},
     "output_type": "execute_result"
    }
   ],
   "source": [
    "tuple1 = (1,2,3,4,5)\n",
    "tuple2 = ('abc','def','hij','klm','nop')\n",
    "\n",
    "tuple1[2]"
   ]
  },
  {
   "cell_type": "code",
   "execution_count": 121,
   "id": "c0a24487",
   "metadata": {},
   "outputs": [
    {
     "name": "stdout",
     "output_type": "stream",
     "text": [
      "1\n",
      "2\n",
      "3\n",
      "4\n",
      "5\n"
     ]
    }
   ],
   "source": [
    "(a,b,c,d,e) = tuple1\n",
    "\n",
    "print(a)\n",
    "print(b)\n",
    "print(c)\n",
    "print(d)\n",
    "print(e)"
   ]
  },
  {
   "cell_type": "code",
   "execution_count": 122,
   "id": "e6f4da6e",
   "metadata": {},
   "outputs": [],
   "source": [
    "titik1 = (3,4)\n",
    "#penggunaan tuple yang baik untuk titik koordinat"
   ]
  },
  {
   "cell_type": "markdown",
   "id": "adf53b2b",
   "metadata": {},
   "source": [
    "## DICTIONARY\n",
    "\n",
    "Memakai key end value sedangkan list pakai indexing"
   ]
  },
  {
   "cell_type": "code",
   "execution_count": 123,
   "id": "54edadf5",
   "metadata": {},
   "outputs": [],
   "source": [
    "list3 = [1,2,3,4,5]\n",
    "list4 = ['abc','def','hij','klm','nop']"
   ]
  },
  {
   "cell_type": "code",
   "execution_count": 124,
   "id": "58a15b5a",
   "metadata": {},
   "outputs": [
    {
     "data": {
      "text/plain": [
       "4"
      ]
     },
     "execution_count": 124,
     "metadata": {},
     "output_type": "execute_result"
    }
   ],
   "source": [
    "list3[3]"
   ]
  },
  {
   "cell_type": "code",
   "execution_count": 125,
   "id": "1a527312",
   "metadata": {},
   "outputs": [],
   "source": [
    "dictionary1 = {\n",
    "    'pertama': 1,\n",
    "    'kedua': 2,\n",
    "    'ketiga': 3,\n",
    "    'keempat': 4\n",
    "}"
   ]
  },
  {
   "cell_type": "code",
   "execution_count": 126,
   "id": "d77c73ed",
   "metadata": {},
   "outputs": [
    {
     "data": {
      "text/plain": [
       "3"
      ]
     },
     "execution_count": 126,
     "metadata": {},
     "output_type": "execute_result"
    }
   ],
   "source": [
    "dictionary1['ketiga']"
   ]
  },
  {
   "cell_type": "code",
   "execution_count": 127,
   "id": "f27de3fd",
   "metadata": {},
   "outputs": [],
   "source": [
    "dictionary2 = {\n",
    "    'Naik': 'Turun',\n",
    "    'Maju': 'Mundur',\n",
    "    'Belakang': 'Depan',\n",
    "    'Kiri': 'Kanan'\n",
    "}"
   ]
  },
  {
   "cell_type": "code",
   "execution_count": 128,
   "id": "c3f765fa",
   "metadata": {},
   "outputs": [
    {
     "data": {
      "text/plain": [
       "'Turun'"
      ]
     },
     "execution_count": 128,
     "metadata": {},
     "output_type": "execute_result"
    }
   ],
   "source": [
    "dictionary2['Naik']"
   ]
  },
  {
   "cell_type": "code",
   "execution_count": 129,
   "id": "23bdb4dd",
   "metadata": {},
   "outputs": [],
   "source": [
    "dictionary2['Naik'] = 'Menurun'"
   ]
  },
  {
   "cell_type": "code",
   "execution_count": 130,
   "id": "05ac3999",
   "metadata": {},
   "outputs": [
    {
     "name": "stdout",
     "output_type": "stream",
     "text": [
      "{'Naik': 'Menurun', 'Maju': 'Mundur', 'Belakang': 'Depan', 'Kiri': 'Kanan'}\n"
     ]
    }
   ],
   "source": [
    "print(dictionary2)"
   ]
  },
  {
   "cell_type": "code",
   "execution_count": 131,
   "id": "f27847ba",
   "metadata": {},
   "outputs": [],
   "source": [
    "del dictionary2['Naik']"
   ]
  },
  {
   "cell_type": "code",
   "execution_count": 132,
   "id": "ec984490",
   "metadata": {},
   "outputs": [
    {
     "name": "stdout",
     "output_type": "stream",
     "text": [
      "{'Maju': 'Mundur', 'Belakang': 'Depan', 'Kiri': 'Kanan', 'Naik': 'Turun'}\n"
     ]
    }
   ],
   "source": [
    "dictionary2['Naik'] = 'Turun'\n",
    "\n",
    "print(dictionary2)"
   ]
  },
  {
   "cell_type": "code",
   "execution_count": 134,
   "id": "defc2dc5",
   "metadata": {},
   "outputs": [
    {
     "name": "stdout",
     "output_type": "stream",
     "text": [
      "{}\n",
      "<class 'dict'>\n"
     ]
    }
   ],
   "source": [
    "data_diri = {}\n",
    "print(data_diri)\n",
    "print(type(data_diri))"
   ]
  },
  {
   "cell_type": "code",
   "execution_count": 135,
   "id": "d7119cc6",
   "metadata": {},
   "outputs": [
    {
     "name": "stdout",
     "output_type": "stream",
     "text": [
      "{'nama_depan': 'Yunita', 'nama_belakang': 'Yulianda', 'umur': 20, 'mahasiswa': True}\n"
     ]
    }
   ],
   "source": [
    "data_diri['nama_depan'] = 'Yunita'\n",
    "data_diri['nama_belakang'] = 'Yulianda'\n",
    "data_diri['umur'] = 20\n",
    "data_diri['mahasiswa'] = True\n",
    "\n",
    "print(data_diri)"
   ]
  },
  {
   "cell_type": "code",
   "execution_count": 143,
   "id": "050d5452",
   "metadata": {},
   "outputs": [
    {
     "name": "stdout",
     "output_type": "stream",
     "text": [
      "barbara\n",
      "beno\n"
     ]
    }
   ],
   "source": [
    "data_diri['peliharaan'] = {'kucing':'barbara', 'kelinci':'beno'}\n",
    "\n",
    "print(data_diri['peliharaan']['kucing'])\n",
    "print(data_diri['peliharaan']['kelinci'])"
   ]
  },
  {
   "cell_type": "code",
   "execution_count": 145,
   "id": "084274c4",
   "metadata": {},
   "outputs": [
    {
     "data": {
      "text/plain": [
       "True"
      ]
     },
     "execution_count": 145,
     "metadata": {},
     "output_type": "execute_result"
    }
   ],
   "source": [
    "p1_age = 20\n",
    "p2_age = 18\n",
    "p3_age = 25\n",
    "p4_age = 40\n",
    "\n",
    "(p1_age >= 18 and p1_age < 25) or (p1_age > p2_age)"
   ]
  }
 ],
 "metadata": {
  "kernelspec": {
   "display_name": "Python 3 (ipykernel)",
   "language": "python",
   "name": "python3"
  },
  "language_info": {
   "codemirror_mode": {
    "name": "ipython",
    "version": 3
   },
   "file_extension": ".py",
   "mimetype": "text/x-python",
   "name": "python",
   "nbconvert_exporter": "python",
   "pygments_lexer": "ipython3",
   "version": "3.9.12"
  }
 },
 "nbformat": 4,
 "nbformat_minor": 5
}
